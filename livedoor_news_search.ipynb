{
 "cells": [
  {
   "cell_type": "code",
   "execution_count": null,
   "id": "805bbbfa-88fc-4719-8a7e-ded90398ad0f",
   "metadata": {},
   "outputs": [],
   "source": [
    "!pip install pymongo"
   ]
  },
  {
   "cell_type": "code",
   "execution_count": 28,
   "id": "8792c0fa-6cf0-4a18-b81b-9e3642b85142",
   "metadata": {},
   "outputs": [],
   "source": [
    "import pprint\n",
    "import re\n",
    "import requests\n",
    "import tarfile\n",
    "from datetime import datetime\n",
    "from glob import glob\n",
    "from pymongo import MongoClient\n",
    "import key_param"
   ]
  },
  {
   "cell_type": "code",
   "execution_count": 29,
   "id": "1421afa2-4848-4d46-924b-4998bfcdea31",
   "metadata": {},
   "outputs": [
    {
     "data": {
      "text/plain": [
       "<bound method TarFile.close of <tarfile.TarFile object at 0x107ff9f00>>"
      ]
     },
     "execution_count": 29,
     "metadata": {},
     "output_type": "execute_result"
    }
   ],
   "source": [
    "url = 'https://www.rondhuit.com/download/ldcc-20140209.tar.gz'\n",
    "target_path = 'ldcc-20140209.tar.gz'\n",
    "\n",
    "response = requests.get(url, stream=True)\n",
    "if response.status_code == 200:\n",
    "    with open(target_path, 'wb') as f:\n",
    "        f.write(response.raw.read())\n",
    "\n",
    "\n",
    "file = tarfile.open('ldcc-20140209.tar.gz')\n",
    "file.extractall()\n",
    "file.close"
   ]
  },
  {
   "cell_type": "code",
   "execution_count": 30,
   "id": "a65fb355-e910-4946-af13-9351ff3fdfb1",
   "metadata": {},
   "outputs": [],
   "source": [
    "topic_news_list = glob('./text/topic-news/[!LICENSE]*')\n",
    "data = []\n",
    "for i, news_file in enumerate(topic_news_list):\n",
    "    data.append({'url':'', 'datetime_of_topic': '', 'contents': ''})\n",
    "    data[i]['url']=''\n",
    "    data[i]['datetime_of_topic'] = ''\n",
    "    data[i]['title'] = ''\n",
    "    data[i]['contents'] = ''\n",
    "    data[i]['relative_articles'] = []\n",
    "    data[i]['relative_info'] = []\n",
    "    k=0\n",
    "    with open(topic_news_list[i]) as f:\n",
    "        for j, line in enumerate(f):\n",
    "            if j==0:\n",
    "                data[i]['url']=line.strip('\\n')\n",
    "            elif j==1:\n",
    "                data[i]['datetime_of_topic'] = datetime.strptime(line.strip('\\n'), '%Y-%m-%dT%H:%M:%S%z')\n",
    "            elif j==2:\n",
    "                data[i]['title'] = line.strip('\\n')\n",
    "            else:\n",
    "                if re.search(\"関連記事\", line):\n",
    "                    k=1\n",
    "                elif re.search(\"関連情報\", line):\n",
    "                    k=2\n",
    "                else:\n",
    "                    if k == 0:\n",
    "                        data[i]['contents'] = data[i]['contents'] + line\n",
    "                    elif k == 1:\n",
    "                        if line.strip('\\n') != '':\n",
    "                            data[i]['relative_articles'].append(line.strip('\\n'))\n",
    "                    elif k == 2:\n",
    "                        if line.strip('\\n') != '':\n",
    "                            data[i]['relative_info'].append(line.strip('\\n'))\n",
    "                \n",
    "                \n",
    "\n"
   ]
  },
  {
   "cell_type": "code",
   "execution_count": 31,
   "id": "a2893d06-da95-4fd0-b18e-b11c20e51449",
   "metadata": {},
   "outputs": [
    {
     "name": "stdout",
     "output_type": "stream",
     "text": [
      "770 documents are inserted\n"
     ]
    }
   ],
   "source": [
    "client = MongoClient(key_param.MONGO_URI)\n",
    "db = client['livedoor_news']\n",
    "collection = db['topic_news']\n",
    "\n",
    "if collection.count_documents({}) != 0:\n",
    "    collection.delete_many({})\n",
    "\n",
    "result = collection.insert_many(data)\n",
    "print(f'{len(result.inserted_ids)} documents are inserted')"
   ]
  },
  {
   "cell_type": "code",
   "execution_count": 42,
   "id": "ee38869f-df70-42fa-939a-151e099b4c1b",
   "metadata": {},
   "outputs": [],
   "source": [
    "pipeline = [\n",
    "  {\n",
    "    '$search': {\n",
    "      'index': \"topic_news_1\",\n",
    "      'text': {\n",
    "        'query': \"ダウンタウン\",\n",
    "        'path': 'contents'\n",
    "      }\n",
    "    }\n",
    "  }\n",
    "]"
   ]
  },
  {
   "cell_type": "code",
   "execution_count": 43,
   "id": "8762de59-978e-4947-89df-5475203eddf9",
   "metadata": {},
   "outputs": [
    {
     "name": "stdout",
     "output_type": "stream",
     "text": [
      "{'_id': ObjectId('65d30e336d6d4ba77a0301f9'),\n",
      " 'contents': '20日に放送されたダウンタウンDXに、佐藤かよと幼馴染のモデル菜々緒が同時に出演した。\\n'\n",
      "             '\\n'\n",
      "             '実際に、子供の頃の写真が何枚も公開されたので、2人が昔からの知り合いだったことは間違いないだろう。\\n'\n",
      "             '\\n'\n",
      "             '菜々緒が佐藤かよと「13年ぶりに再会したら、女の子になっていた」というのだから、“衝撃の再会”である。\\n'\n",
      "             '\\n'\n",
      "             '13年の間に女性へ変身した佐藤かよの美貌は、アンジャッシュの渡部が、本気で口説いてしまったほど。\\n'\n",
      "             '\\n'\n",
      "             '番組内で、はるな愛が「男の部分を出せばいい」とアドバイスしていたが、佐藤かよが男らしさを見せる日は来るのだろうか。\\n'\n",
      "             '\\n',\n",
      " 'datetime_of_topic': datetime.datetime(2011, 10, 21, 10, 21),\n",
      " 'relative_articles': ['人気モデル菜々緒、佐藤かよを本気で口説いた芸人とは？',\n",
      "                       '・http://news.livedoor.com/article/detail/5275940/',\n",
      "                       'アンジャッシュ渡部の発言に「最低！」の声が続出',\n",
      "                       '・http://news.livedoor.com/article/detail/5934334/'],\n",
      " 'relative_info': [],\n",
      " 'title': '佐藤かよの意外な幼馴染とは?',\n",
      " 'url': 'http://news.livedoor.com/article/detail/5956985/'}\n"
     ]
    }
   ],
   "source": [
    "pprint.pprint(list(collection.aggregate(pipeline))[0])"
   ]
  },
  {
   "cell_type": "code",
   "execution_count": null,
   "id": "80d1ac19-de3e-4c1b-b354-e54fc4ffbdf8",
   "metadata": {},
   "outputs": [],
   "source": [
    "pipeline = [\n",
    "  {\n",
    "    '$search': {\n",
    "      'index': \"topic_news_1\",\n",
    "      'text': {\n",
    "        'query': \"ダウンタウン\",\n",
    "        'path': {\n",
    "          'value': 'contents', 'multi': 'ngram'\n",
    "        }\n",
    "      }\n",
    "    }\n",
    "  }\n",
    "]"
   ]
  },
  {
   "cell_type": "code",
   "execution_count": 39,
   "id": "5d4a8c6e-f4d2-4e1b-b915-0ab758c7d043",
   "metadata": {},
   "outputs": [
    {
     "name": "stdout",
     "output_type": "stream",
     "text": [
      "{'_id': ObjectId('65d30e336d6d4ba77a0302a7'),\n",
      " 'contents': 'ダウンタウンのガキの使いやあらへんで！！”10月9日放送回で、ダウンタウンがマスターとママになり、客である吉本の芸人同士で酒を飲ませて話をさせる“べろんべろん酒場”という企画があった。\\n'\n",
      "             '\\n'\n",
      "             'ゲストの一人のココリコ遠藤が“入店”してからしばらく突然立ち上がり、「マスターにご挨拶していなかったので」とダウンタウン浜田に挨拶をした。\\n'\n",
      "             '\\n'\n",
      "             'そこから、遠藤が吉本の若手の挨拶がなっていないと語り始める。\\n'\n",
      "             '\\n'\n",
      "             '同じくゲストのフットボール岩尾に対し「お前らより下の世代におるやろ。20歳そこそこの。違う番組、違う現場でも、同じ局に入れば挨拶に（行くべき）」と主張したのだ。\\n'\n",
      "             '\\n'\n",
      "             'ここで思い出されるのは、芸能界を引退した島田紳助さんも、2009年のオールスター感謝祭で、若手芸人を恫喝した要因に「挨拶が出来ていない」というものがあった。\\n'\n",
      "             '\\n'\n",
      "             '・「お前ら、潰すぞ！」生放送中に東京03を恫喝した島田紳助\\u3000その後の和解劇真相\\n'\n",
      "             '\\n'\n",
      "             'しかし、挨拶を重視した紳助さんを彷彿させるようなココリコ遠藤の“年功序列”重視を批判する芸人が現れる。\\n'\n",
      "             '\\n'\n",
      "             '山崎邦正だ。「吉本の“タテ”がおかしくなってる」と説明され、「挨拶はしなきゃあかんわ」と山崎も最初は笑顔で同意していたが、その後、遠藤の方に目を向けつつ「芸人は年功序列じゃないからな」と言い放った。\\n'\n",
      "             '\\n'\n",
      "             'その瞬間から、山崎はどんどんとヒートアップしていく。「芸人は年功序列関係ない\\u3000'\n",
      "             '面白さ」「俺はやったるで！」。ここで笑い声がスタッフ側か、どこからか沸くも、それを聞いた山崎邦正は激怒した。\\n'\n",
      "             '\\n'\n",
      "             '「おい、誰だ笑ってるの！」。その顔は真剣そのものだった。\\n'\n",
      "             '\\n'\n",
      "             '山崎邦正のように「芸人は実力主義」と考える芸人もいるが、紳助さんが長らく吉本のトップに君臨し続けたことを考えれば、ココリコ遠藤のように年功序列を徹底重視する吉本芸人のほうが一般的なのだろう。\\n'\n",
      "             '\\n'\n",
      "             'このような吉本の“タテ”関係が、紳助さんの恫喝の背景にあったことも十分考えられる。\\n'\n",
      "             '\\n'\n",
      "             '芸人に酒を飲ませて“ぶっちゃけさせる”企画は賛否両論あるかもしれないが、意外な本音が垣間見えた一瞬であった。\\n',\n",
      " 'datetime_of_topic': datetime.datetime(2011, 10, 11, 3, 10),\n",
      " 'relative_articles': [],\n",
      " 'relative_info': [],\n",
      " 'title': '吉本の“タテ”の実態',\n",
      " 'url': 'http://news.livedoor.com/article/detail/5927215/'}\n"
     ]
    }
   ],
   "source": [
    "pprint.pprint(list(collection.aggregate(pipeline))[0])"
   ]
  },
  {
   "cell_type": "code",
   "execution_count": 44,
   "id": "0666e5dd-ef02-44b7-a91c-c234d2df5551",
   "metadata": {},
   "outputs": [
    {
     "name": "stdout",
     "output_type": "stream",
     "text": [
      "{'_id': ObjectId('65d30e336d6d4ba77a0302dc'),\n",
      " 'contents': '20日放送「ダウンタウンDX」でえなりかずきが意外な趣味を告白した。\\n'\n",
      "             '\\n'\n",
      "             'えなりかずきと言えば、若者らしからぬ品行方正な佇まいで知られるが、そのイメージを自らブチ壊してしまったのだ。\\n'\n",
      "             '\\n'\n",
      "             'えなりかずきの趣味はなんと、「エヴァンゲリオン」のアテレコ。赤ワインを用意し、だらしなくソファに寝そべりながら、「逃げちゃダメだ、逃げちゃダメだ・・・」と、ノリノリで名場面を熱演。セリフだけでなく、動きもピッタリ合っているほど完璧だった。\\n'\n",
      "             '\\n'\n",
      "             'えなりかずきの意外な一面に、Twitterでは「キモい」「親近感が沸いた」と賛否両論。\\n'\n",
      "             '\\n'\n",
      "             '心なしか、同席していた泉ピン子は、えなりかずきの若者らしい私生活に顔をしかめているようだった。\\n',\n",
      " 'datetime_of_topic': datetime.datetime(2011, 10, 21, 3, 48),\n",
      " 'relative_articles': [],\n",
      " 'relative_info': [],\n",
      " 'title': 'えなりかずきの私生活に「キモい」',\n",
      " 'url': 'http://news.livedoor.com/article/detail/5955817/'}\n"
     ]
    }
   ],
   "source": [
    "pipeline = [\n",
    "  {\n",
    "    '$search': {\n",
    "      'index': \"topic_news_1\",\n",
    "      'text': {\n",
    "        'query': \"ダウンチウン\",\n",
    "        'path': 'contents',\n",
    "        'fuzzy': {'maxEdits':2}\n",
    "      }\n",
    "    }\n",
    "  }\n",
    "]\n",
    "pprint.pprint(list(collection.aggregate(pipeline))[0])"
   ]
  },
  {
   "cell_type": "code",
   "execution_count": 47,
   "id": "7ad03a5e-08bf-46d5-beea-9352b3a1892c",
   "metadata": {},
   "outputs": [
    {
     "name": "stdout",
     "output_type": "stream",
     "text": [
      "{'_id': ObjectId('65d30e336d6d4ba77a0302dc'),\n",
      " 'contents': '20日放送「ダウンタウンDX」でえなりかずきが意外な趣味を告白した。\\n'\n",
      "             '\\n'\n",
      "             'えなりかずきと言えば、若者らしからぬ品行方正な佇まいで知られるが、そのイメージを自らブチ壊してしまったのだ。\\n'\n",
      "             '\\n'\n",
      "             'えなりかずきの趣味はなんと、「エヴァンゲリオン」のアテレコ。赤ワインを用意し、だらしなくソファに寝そべりながら、「逃げちゃダメだ、逃げちゃダメだ・・・」と、ノリノリで名場面を熱演。セリフだけでなく、動きもピッタリ合っているほど完璧だった。\\n'\n",
      "             '\\n'\n",
      "             'えなりかずきの意外な一面に、Twitterでは「キモい」「親近感が沸いた」と賛否両論。\\n'\n",
      "             '\\n'\n",
      "             '心なしか、同席していた泉ピン子は、えなりかずきの若者らしい私生活に顔をしかめているようだった。\\n',\n",
      " 'datetime_of_topic': datetime.datetime(2011, 10, 21, 3, 48),\n",
      " 'score': 2.504638195037842,\n",
      " 'title': 'えなりかずきの私生活に「キモい」'}\n"
     ]
    }
   ],
   "source": [
    "pipeline = [\n",
    "  {\n",
    "    '$search': {\n",
    "      'index': \"topic_news_1\",\n",
    "      'text': {\n",
    "        'query': \"ダウンチウン\",\n",
    "        'path': 'contents',\n",
    "        'fuzzy': {'maxEdits':2}\n",
    "      }\n",
    "    }\n",
    "  },\n",
    "  {\n",
    "    '$project': {\n",
    "      'title':1,\n",
    "      'contents': 1,\n",
    "      'datetime_of_topic':1,\n",
    "      'score': {'$meta': 'searchScore'}\n",
    "    }\n",
    "  }\n",
    "]\n",
    "pprint.pprint(list(collection.aggregate(pipeline))[0])"
   ]
  },
  {
   "cell_type": "code",
   "execution_count": null,
   "id": "015902c0-bb0e-4f08-97ae-fa1544a4f4ea",
   "metadata": {},
   "outputs": [],
   "source": []
  }
 ],
 "metadata": {
  "kernelspec": {
   "display_name": "Python 3 (ipykernel)",
   "language": "python",
   "name": "python3"
  },
  "language_info": {
   "codemirror_mode": {
    "name": "ipython",
    "version": 3
   },
   "file_extension": ".py",
   "mimetype": "text/x-python",
   "name": "python",
   "nbconvert_exporter": "python",
   "pygments_lexer": "ipython3",
   "version": "3.10.13"
  }
 },
 "nbformat": 4,
 "nbformat_minor": 5
}
